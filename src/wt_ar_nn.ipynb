{
 "cells": [
  {
   "cell_type": "code",
   "execution_count": 1,
   "metadata": {
    "collapsed": false
   },
   "outputs": [
    {
     "name": "stdout",
     "output_type": "stream",
     "text": [
      "TRAIN Summay\n",
      "Sample num: 14473, feature num: 236\n",
      "Sample num for each label:\n",
      "Label 0: 2851\n",
      "Label 1: 3190\n",
      "Label 2: 2767\n",
      "Label 3: 2621\n",
      "Label 4: 1270\n",
      "Label 5: 1774\n",
      "\r\n",
      "TEST Summary\n",
      "Sample num: 6203, feature num: 236\n",
      "Sample num for each label:\n",
      "Label 0: 1222\n",
      "Label 1: 1359\n",
      "Label 2: 1182\n",
      "Label 3: 1163\n",
      "Label 4: 529\n",
      "Label 5: 748\n"
     ]
    }
   ],
   "source": [
    "import tensorflow as tf\n",
    "from mit_bih_data_maker import mit_bih_data_maker\n",
    "\n",
    "def test_label_maker(label):\n",
    "    label_map = {\"N\":0, \"L\":1, \"R\":2, \"/\":3, \"V\":4, \"A\":5}\n",
    "    if label in label_map:\n",
    "        return label_map[label]\n",
    "    return \"Omit\"\n",
    "\n",
    "data_maker = mit_bih_data_maker()\n",
    "data_maker.config(\"../database/mit-bih/\", \"../database/mit-bih\", \"../database/mit-bih-r-label\")\n",
    "#rec_list = [\"100\", \"109\", \"118\", \"107\", \"208\", \"232\"]\n",
    "rec_list = []\n",
    "data_maker.load_data(rec_list)\n",
    "\n",
    "sample_num = -1\n",
    "label_percent = {0:0.197, 1:0.220, 2:0.191, 3:0.183, 4:0.087, 5:0.122}\n",
    "train_percent = 0.7\n",
    "ecg_data = data_maker.make_by_r_peak(before_r = 90, after_r = 146, sample_num = sample_num, label_maker = test_label_maker, \\\n",
    "                                     label_percent = label_percent, train_percent = train_percent)\n",
    "ecg_data.print_summary()"
   ]
  },
  {
   "cell_type": "code",
   "execution_count": 2,
   "metadata": {
    "collapsed": false
   },
   "outputs": [
    {
     "name": "stdout",
     "output_type": "stream",
     "text": [
      "(14473, 282)\n",
      "(6203, 282)\n"
     ]
    }
   ],
   "source": [
    "import pywt\n",
    "\n",
    "import numpy as np\n",
    "from statsmodels.tsa.ar_model import AR\n",
    "\n",
    "db8 = pywt.Wavelet('db8')\n",
    "fea_train = []\n",
    "for i in xrange(ecg_data.train.x.shape[0]):\n",
    "    cA3, cD3, cD2, cD1 = pywt.wavedec(ecg_data.train.x[i].tolist(), db8, level = 3)\n",
    "    model = AR(ecg_data.train.x[i].tolist())\n",
    "    result = model.fit(maxlag = 4)\n",
    "    fea_train.append(ecg_data.train.x[i].tolist() + cA3.tolist() + result.params[1:].tolist())\n",
    "\n",
    "fea_test = []\n",
    "for i in xrange(ecg_data.test.x.shape[0]):\n",
    "    cA3, cD3, cD2, cD1 = pywt.wavedec(ecg_data.test.x[i].tolist(), db8, level = 3)\n",
    "    model = AR(ecg_data.test.x[i].tolist())\n",
    "    result = model.fit(maxlag = 4)\n",
    "    fea_test.append(ecg_data.test.x[i].tolist() + cA3.tolist() + result.params[1:].tolist())\n",
    "        \n",
    "print np.array(fea_train).shape\n",
    "print np.array(fea_test).shape"
   ]
  },
  {
   "cell_type": "code",
   "execution_count": 4,
   "metadata": {
    "collapsed": false
   },
   "outputs": [
    {
     "name": "stdout",
     "output_type": "stream",
     "text": [
      "step 0, training accuracy 0.217959\n",
      "step 1000, training accuracy 0.82315\n",
      "step 2000, training accuracy 0.859584\n",
      "step 3000, training accuracy 0.876189\n",
      "step 4000, training accuracy 0.8857\n",
      "step 5000, training accuracy 0.894245\n",
      "step 6000, training accuracy 0.903273\n",
      "step 7000, training accuracy 0.907787\n",
      "step 8000, training accuracy 0.912784\n",
      "step 9000, training accuracy 0.915686\n",
      "step 10000, training accuracy 0.919071\n",
      "step 11000, training accuracy 0.92149\n",
      "step 12000, training accuracy 0.924553\n",
      "step 13000, training accuracy 0.927293\n",
      "step 14000, training accuracy 0.929228\n",
      "step 15000, training accuracy 0.933581\n",
      "step 16000, training accuracy 0.933097\n",
      "step 17000, training accuracy 0.937611\n",
      "step 18000, training accuracy 0.938417\n",
      "step 19000, training accuracy 0.939545\n",
      "step 20000, training accuracy 0.940835\n",
      "step 21000, training accuracy 0.94277\n",
      "step 22000, training accuracy 0.945188\n",
      "step 23000, training accuracy 0.944059\n",
      "step 24000, training accuracy 0.945833\n",
      "step 25000, training accuracy 0.945994\n",
      "step 26000, training accuracy 0.947767\n",
      "step 27000, training accuracy 0.946961\n",
      "step 28000, training accuracy 0.951314\n",
      "step 29000, training accuracy 0.950991\n",
      "step 30000, training accuracy 0.953087\n",
      "step 31000, training accuracy 0.95212\n",
      "step 32000, training accuracy 0.954699\n",
      "step 33000, training accuracy 0.955989\n",
      "step 34000, training accuracy 0.957924\n",
      "step 35000, training accuracy 0.957601\n",
      "step 36000, training accuracy 0.95744\n",
      "step 37000, training accuracy 0.197001\n",
      "step 38000, training accuracy 0.197001\n"
     ]
    },
    {
     "name": "stderr",
     "output_type": "stream",
     "text": [
      "Exception AssertionError: AssertionError() in <bound method InteractiveSession.__del__ of <tensorflow.python.client.session.InteractiveSession object at 0x4018ab10>> ignored\n"
     ]
    },
    {
     "ename": "KeyboardInterrupt",
     "evalue": "",
     "output_type": "error",
     "traceback": [
      "\u001b[1;31m---------------------------------------------------------------------------\u001b[0m",
      "\u001b[1;31mKeyboardInterrupt\u001b[0m                         Traceback (most recent call last)",
      "\u001b[1;32m<ipython-input-4-695e0881cca3>\u001b[0m in \u001b[0;36m<module>\u001b[1;34m()\u001b[0m\n\u001b[0;32m     45\u001b[0m         \u001b[0mcA3\u001b[0m\u001b[1;33m,\u001b[0m \u001b[0mcD3\u001b[0m\u001b[1;33m,\u001b[0m \u001b[0mcD2\u001b[0m\u001b[1;33m,\u001b[0m \u001b[0mcD1\u001b[0m \u001b[1;33m=\u001b[0m \u001b[0mpywt\u001b[0m\u001b[1;33m.\u001b[0m\u001b[0mwavedec\u001b[0m\u001b[1;33m(\u001b[0m\u001b[0mbatch\u001b[0m\u001b[1;33m[\u001b[0m\u001b[1;36m0\u001b[0m\u001b[1;33m]\u001b[0m\u001b[1;33m[\u001b[0m\u001b[0mi\u001b[0m\u001b[1;33m]\u001b[0m\u001b[1;33m.\u001b[0m\u001b[0mtolist\u001b[0m\u001b[1;33m(\u001b[0m\u001b[1;33m)\u001b[0m\u001b[1;33m,\u001b[0m \u001b[0mdb8\u001b[0m\u001b[1;33m,\u001b[0m \u001b[0mlevel\u001b[0m \u001b[1;33m=\u001b[0m \u001b[1;36m3\u001b[0m\u001b[1;33m)\u001b[0m\u001b[1;33m\u001b[0m\u001b[0m\n\u001b[0;32m     46\u001b[0m         \u001b[0mmodel\u001b[0m \u001b[1;33m=\u001b[0m \u001b[0mAR\u001b[0m\u001b[1;33m(\u001b[0m\u001b[0mbatch\u001b[0m\u001b[1;33m[\u001b[0m\u001b[1;36m0\u001b[0m\u001b[1;33m]\u001b[0m\u001b[1;33m[\u001b[0m\u001b[0mi\u001b[0m\u001b[1;33m]\u001b[0m\u001b[1;33m.\u001b[0m\u001b[0mtolist\u001b[0m\u001b[1;33m(\u001b[0m\u001b[1;33m)\u001b[0m\u001b[1;33m)\u001b[0m\u001b[1;33m\u001b[0m\u001b[0m\n\u001b[1;32m---> 47\u001b[1;33m         \u001b[0mresult\u001b[0m \u001b[1;33m=\u001b[0m \u001b[0mmodel\u001b[0m\u001b[1;33m.\u001b[0m\u001b[0mfit\u001b[0m\u001b[1;33m(\u001b[0m\u001b[0mmaxlag\u001b[0m \u001b[1;33m=\u001b[0m \u001b[1;36m4\u001b[0m\u001b[1;33m)\u001b[0m\u001b[1;33m\u001b[0m\u001b[0m\n\u001b[0m\u001b[0;32m     48\u001b[0m         \u001b[0mfea_train\u001b[0m\u001b[1;33m.\u001b[0m\u001b[0mappend\u001b[0m\u001b[1;33m(\u001b[0m\u001b[0mbatch\u001b[0m\u001b[1;33m[\u001b[0m\u001b[1;36m0\u001b[0m\u001b[1;33m]\u001b[0m\u001b[1;33m[\u001b[0m\u001b[0mi\u001b[0m\u001b[1;33m]\u001b[0m\u001b[1;33m.\u001b[0m\u001b[0mtolist\u001b[0m\u001b[1;33m(\u001b[0m\u001b[1;33m)\u001b[0m \u001b[1;33m+\u001b[0m \u001b[0mcA3\u001b[0m\u001b[1;33m.\u001b[0m\u001b[0mtolist\u001b[0m\u001b[1;33m(\u001b[0m\u001b[1;33m)\u001b[0m \u001b[1;33m+\u001b[0m \u001b[0mresult\u001b[0m\u001b[1;33m.\u001b[0m\u001b[0mparams\u001b[0m\u001b[1;33m[\u001b[0m\u001b[1;36m1\u001b[0m\u001b[1;33m:\u001b[0m\u001b[1;33m]\u001b[0m\u001b[1;33m.\u001b[0m\u001b[0mtolist\u001b[0m\u001b[1;33m(\u001b[0m\u001b[1;33m)\u001b[0m\u001b[1;33m)\u001b[0m\u001b[1;33m\u001b[0m\u001b[0m\n\u001b[0;32m     49\u001b[0m \u001b[1;33m\u001b[0m\u001b[0m\n",
      "\u001b[1;32m/usr/lib64/python2.7/site-packages/statsmodels/tsa/ar_model.pyc\u001b[0m in \u001b[0;36mfit\u001b[1;34m(self, maxlag, method, ic, trend, transparams, start_params, solver, maxiter, full_output, disp, callback, **kwargs)\u001b[0m\n\u001b[0;32m    547\u001b[0m         \u001b[0mY\u001b[0m \u001b[1;33m=\u001b[0m \u001b[0mendog\u001b[0m\u001b[1;33m[\u001b[0m\u001b[0mk_ar\u001b[0m\u001b[1;33m:\u001b[0m\u001b[1;33m,\u001b[0m \u001b[1;33m:\u001b[0m\u001b[1;33m]\u001b[0m\u001b[1;33m\u001b[0m\u001b[0m\n\u001b[0;32m    548\u001b[0m         \u001b[1;31m# make lagged RHS\u001b[0m\u001b[1;33m\u001b[0m\u001b[1;33m\u001b[0m\u001b[0m\n\u001b[1;32m--> 549\u001b[1;33m         \u001b[0mX\u001b[0m \u001b[1;33m=\u001b[0m \u001b[0mself\u001b[0m\u001b[1;33m.\u001b[0m\u001b[0m_stackX\u001b[0m\u001b[1;33m(\u001b[0m\u001b[0mk_ar\u001b[0m\u001b[1;33m,\u001b[0m \u001b[0mtrend\u001b[0m\u001b[1;33m)\u001b[0m  \u001b[1;31m# sets self.k_trend\u001b[0m\u001b[1;33m\u001b[0m\u001b[0m\n\u001b[0m\u001b[0;32m    550\u001b[0m         \u001b[0mk_trend\u001b[0m \u001b[1;33m=\u001b[0m \u001b[0mself\u001b[0m\u001b[1;33m.\u001b[0m\u001b[0mk_trend\u001b[0m\u001b[1;33m\u001b[0m\u001b[0m\n\u001b[0;32m    551\u001b[0m         \u001b[0mself\u001b[0m\u001b[1;33m.\u001b[0m\u001b[0mexog_names\u001b[0m \u001b[1;33m=\u001b[0m \u001b[0mutil\u001b[0m\u001b[1;33m.\u001b[0m\u001b[0mmake_lag_names\u001b[0m\u001b[1;33m(\u001b[0m\u001b[0mself\u001b[0m\u001b[1;33m.\u001b[0m\u001b[0mendog_names\u001b[0m\u001b[1;33m,\u001b[0m \u001b[0mk_ar\u001b[0m\u001b[1;33m,\u001b[0m \u001b[0mk_trend\u001b[0m\u001b[1;33m)\u001b[0m\u001b[1;33m\u001b[0m\u001b[0m\n",
      "\u001b[1;32m/usr/lib64/python2.7/site-packages/statsmodels/tsa/ar_model.pyc\u001b[0m in \u001b[0;36m_stackX\u001b[1;34m(self, k_ar, trend)\u001b[0m\n\u001b[0;32m    392\u001b[0m         \u001b[0mk_trend\u001b[0m \u001b[1;33m=\u001b[0m \u001b[0mutil\u001b[0m\u001b[1;33m.\u001b[0m\u001b[0mget_trendorder\u001b[0m\u001b[1;33m(\u001b[0m\u001b[0mtrend\u001b[0m\u001b[1;33m)\u001b[0m\u001b[1;33m\u001b[0m\u001b[0m\n\u001b[0;32m    393\u001b[0m         \u001b[1;32mif\u001b[0m \u001b[0mk_trend\u001b[0m\u001b[1;33m:\u001b[0m\u001b[1;33m\u001b[0m\u001b[0m\n\u001b[1;32m--> 394\u001b[1;33m             \u001b[0mX\u001b[0m \u001b[1;33m=\u001b[0m \u001b[0madd_trend\u001b[0m\u001b[1;33m(\u001b[0m\u001b[0mX\u001b[0m\u001b[1;33m,\u001b[0m \u001b[0mprepend\u001b[0m\u001b[1;33m=\u001b[0m\u001b[0mTrue\u001b[0m\u001b[1;33m,\u001b[0m \u001b[0mtrend\u001b[0m\u001b[1;33m=\u001b[0m\u001b[0mtrend\u001b[0m\u001b[1;33m)\u001b[0m\u001b[1;33m\u001b[0m\u001b[0m\n\u001b[0m\u001b[0;32m    395\u001b[0m         \u001b[0mself\u001b[0m\u001b[1;33m.\u001b[0m\u001b[0mk_trend\u001b[0m \u001b[1;33m=\u001b[0m \u001b[0mk_trend\u001b[0m\u001b[1;33m\u001b[0m\u001b[0m\n\u001b[0;32m    396\u001b[0m         \u001b[1;32mreturn\u001b[0m \u001b[0mX\u001b[0m\u001b[1;33m\u001b[0m\u001b[0m\n",
      "\u001b[1;32m/usr/lib64/python2.7/site-packages/statsmodels/tsa/tsatools.pyc\u001b[0m in \u001b[0;36madd_trend\u001b[1;34m(X, trend, prepend, has_constant)\u001b[0m\n\u001b[0;32m     40\u001b[0m     \u001b[0mtrend\u001b[0m \u001b[1;33m=\u001b[0m \u001b[0mtrend\u001b[0m\u001b[1;33m.\u001b[0m\u001b[0mlower\u001b[0m\u001b[1;33m(\u001b[0m\u001b[1;33m)\u001b[0m\u001b[1;33m\u001b[0m\u001b[0m\n\u001b[0;32m     41\u001b[0m     \u001b[1;32mif\u001b[0m \u001b[0mtrend\u001b[0m \u001b[1;33m==\u001b[0m \u001b[1;34m\"c\"\u001b[0m\u001b[1;33m:\u001b[0m    \u001b[1;31m# handles structured arrays\u001b[0m\u001b[1;33m\u001b[0m\u001b[0m\n\u001b[1;32m---> 42\u001b[1;33m         \u001b[1;32mreturn\u001b[0m \u001b[0madd_constant\u001b[0m\u001b[1;33m(\u001b[0m\u001b[0mX\u001b[0m\u001b[1;33m,\u001b[0m \u001b[0mprepend\u001b[0m\u001b[1;33m=\u001b[0m\u001b[0mprepend\u001b[0m\u001b[1;33m,\u001b[0m \u001b[0mhas_constant\u001b[0m\u001b[1;33m=\u001b[0m\u001b[0mhas_constant\u001b[0m\u001b[1;33m)\u001b[0m\u001b[1;33m\u001b[0m\u001b[0m\n\u001b[0m\u001b[0;32m     43\u001b[0m     \u001b[1;32melif\u001b[0m \u001b[0mtrend\u001b[0m \u001b[1;33m==\u001b[0m \u001b[1;34m\"ct\"\u001b[0m \u001b[1;32mor\u001b[0m \u001b[0mtrend\u001b[0m \u001b[1;33m==\u001b[0m \u001b[1;34m\"t\"\u001b[0m\u001b[1;33m:\u001b[0m\u001b[1;33m\u001b[0m\u001b[0m\n\u001b[0;32m     44\u001b[0m         \u001b[0mtrendorder\u001b[0m \u001b[1;33m=\u001b[0m \u001b[1;36m1\u001b[0m\u001b[1;33m\u001b[0m\u001b[0m\n",
      "\u001b[1;32m/usr/lib64/python2.7/site-packages/statsmodels/tools/tools.pyc\u001b[0m in \u001b[0;36madd_constant\u001b[1;34m(data, prepend, has_constant)\u001b[0m\n\u001b[0;32m    324\u001b[0m                 raise ValueError(\"Option {0} not understood for \"\n\u001b[0;32m    325\u001b[0m                                  \"has_constant.\".format(has_constant))\n\u001b[1;32m--> 326\u001b[1;33m         \u001b[0mdata\u001b[0m \u001b[1;33m=\u001b[0m \u001b[0mnp\u001b[0m\u001b[1;33m.\u001b[0m\u001b[0mcolumn_stack\u001b[0m\u001b[1;33m(\u001b[0m\u001b[1;33m(\u001b[0m\u001b[0mdata\u001b[0m\u001b[1;33m,\u001b[0m \u001b[0mnp\u001b[0m\u001b[1;33m.\u001b[0m\u001b[0mones\u001b[0m\u001b[1;33m(\u001b[0m\u001b[1;33m(\u001b[0m\u001b[0mdata\u001b[0m\u001b[1;33m.\u001b[0m\u001b[0mshape\u001b[0m\u001b[1;33m[\u001b[0m\u001b[1;36m0\u001b[0m\u001b[1;33m]\u001b[0m\u001b[1;33m,\u001b[0m \u001b[1;36m1\u001b[0m\u001b[1;33m)\u001b[0m\u001b[1;33m)\u001b[0m\u001b[1;33m)\u001b[0m\u001b[1;33m)\u001b[0m\u001b[1;33m\u001b[0m\u001b[0m\n\u001b[0m\u001b[0;32m    327\u001b[0m         \u001b[1;32mif\u001b[0m \u001b[0mprepend\u001b[0m\u001b[1;33m:\u001b[0m\u001b[1;33m\u001b[0m\u001b[0m\n\u001b[0;32m    328\u001b[0m             \u001b[1;32mreturn\u001b[0m \u001b[0mnp\u001b[0m\u001b[1;33m.\u001b[0m\u001b[0mroll\u001b[0m\u001b[1;33m(\u001b[0m\u001b[0mdata\u001b[0m\u001b[1;33m,\u001b[0m \u001b[1;36m1\u001b[0m\u001b[1;33m,\u001b[0m \u001b[1;36m1\u001b[0m\u001b[1;33m)\u001b[0m\u001b[1;33m\u001b[0m\u001b[0m\n",
      "\u001b[1;31mKeyboardInterrupt\u001b[0m: "
     ]
    }
   ],
   "source": [
    "import numpy as np\n",
    "\n",
    "def weight_var(shape):\n",
    "    initial = tf.truncated_normal(shape, stddev = 0.1)\n",
    "    return tf.Variable(initial)\n",
    "\n",
    "def bias_var(shape):\n",
    "    initial = tf.constant(0.1, shape = shape)\n",
    "    return tf.Variable(initial)\n",
    "\n",
    "sess = tf.InteractiveSession()\n",
    "\n",
    "x = tf.placeholder(tf.float32, [None, 282])\n",
    "y_ = tf.placeholder(tf.float32, [None])\n",
    "y_onehot = tf.one_hot(tf.cast(y_, tf.int64), 6, 1.0, 0.0)\n",
    "\n",
    "#隐层\n",
    "W_h = weight_var([282, 32])\n",
    "b_h = bias_var([32])\n",
    "h = tf.nn.relu(tf.matmul(x, W_h) + b_h)\n",
    "\n",
    "#输出层\n",
    "W_o = weight_var([32, 6])\n",
    "b_o = bias_var([6])\n",
    "o = tf.nn.softmax(tf.matmul(h, W_o) + b_o)\n",
    "\n",
    "cross_entropy = -tf.reduce_sum(y_onehot * tf.log(o))\n",
    "train_step = tf.train.AdamOptimizer(0.0001).minimize(cross_entropy)\n",
    "\n",
    "corr_pred = tf.equal(tf.arg_max(o, 1), tf.arg_max(y_onehot, 1))\n",
    "accuracy = tf.reduce_mean(tf.cast(corr_pred, tf.float32))\n",
    "\n",
    "sess.run(tf.initialize_all_variables())\n",
    "\n",
    "for i in xrange(200000):\n",
    "    batch = ecg_data.train.next_batch(50)\n",
    "    \n",
    "    if i % 1000 == 0:\n",
    "        train_accuacy = accuracy.eval(feed_dict={x: np.array(fea_test), y_: ecg_data.test.y})\n",
    "        print(\"step %d, training accuracy %g\"%(i, train_accuacy))\n",
    "        \n",
    "    db8 = pywt.Wavelet('db8')\n",
    "    fea_train = []\n",
    "    for i in xrange(batch[0].shape[0]):\n",
    "        cA3, cD3, cD2, cD1 = pywt.wavedec(batch[0][i].tolist(), db8, level = 3)\n",
    "        model = AR(batch[0][i].tolist())\n",
    "        result = model.fit(maxlag = 4)\n",
    "        fea_train.append(batch[0][i].tolist() + cA3.tolist() + result.params[1:].tolist())\n",
    "        \n",
    "    sess.run(train_step, feed_dict = {x : np.array(fea_train), y_ : batch[1]})"
   ]
  }
 ],
 "metadata": {
  "kernelspec": {
   "display_name": "Python 2",
   "language": "python",
   "name": "python2"
  },
  "language_info": {
   "codemirror_mode": {
    "name": "ipython",
    "version": 2
   },
   "file_extension": ".py",
   "mimetype": "text/x-python",
   "name": "python",
   "nbconvert_exporter": "python",
   "pygments_lexer": "ipython2",
   "version": "2.7.5"
  }
 },
 "nbformat": 4,
 "nbformat_minor": 0
}
