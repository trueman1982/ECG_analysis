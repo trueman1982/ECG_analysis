{
 "cells": [
  {
   "cell_type": "code",
   "execution_count": 2,
   "metadata": {
    "collapsed": false
   },
   "outputs": [],
   "source": [
    "import numpy as np\n",
    "import os\n",
    "\n",
    "data_dir = \"../database/mit-bih/\"\n",
    "label_dir = \"../database/mit-bih-r-label/\"\n",
    "for f in os.listdir(data_dir):\n",
    "    if not f.endswith(\".dat\"):\n",
    "        continue\n",
    "    file_name = os.path.join(data_dir, f)\n",
    "    fp = open(file_name)\n",
    "    fp.readline()\n",
    "    fp.readline()\n",
    "    outfp = open(\"../temp/pt_qrs_input.tmp\", \"w\")\n",
    "    for (i, line) in enumerate(fp):\n",
    "        print >> outfp, \"\\t\".join([str(i), str(int(float(line.split()[1]) * 1000 + 1000)), \"0\"])\n",
    "    outfp.close()\n",
    "    os.system(\"../thirdp-lib/qrs_detect ../temp/pt_qrs_input.tmp %s ../temp/s_label.tmp ../temp/qrs_log.tmp 650000 360\" % os.path.join(label_dir, f))"
   ]
  }
 ],
 "metadata": {
  "kernelspec": {
   "display_name": "Python 2",
   "language": "python",
   "name": "python2"
  },
  "language_info": {
   "codemirror_mode": {
    "name": "ipython",
    "version": 2
   },
   "file_extension": ".py",
   "mimetype": "text/x-python",
   "name": "python",
   "nbconvert_exporter": "python",
   "pygments_lexer": "ipython2",
   "version": "2.7.5"
  }
 },
 "nbformat": 4,
 "nbformat_minor": 0
}
