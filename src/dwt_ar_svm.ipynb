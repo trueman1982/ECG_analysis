{
 "cells": [
  {
   "cell_type": "code",
   "execution_count": 2,
   "metadata": {
    "collapsed": false
   },
   "outputs": [
    {
     "name": "stdout",
     "output_type": "stream",
     "text": [
      "TRAIN Summay\n",
      "Sample num: 14473, feature num: 236\n",
      "Sample num for each label:\n",
      "Label 0: 2879\n",
      "Label 1: 3167\n",
      "Label 2: 2783\n",
      "Label 3: 2628\n",
      "Label 4: 1234\n",
      "Label 5: 1782\n",
      "\r\n",
      "TEST Summary\n",
      "Sample num: 6203, feature num: 236\n",
      "Sample num for each label:\n",
      "Label 0: 1194\n",
      "Label 1: 1382\n",
      "Label 2: 1166\n",
      "Label 3: 1156\n",
      "Label 4: 565\n",
      "Label 5: 740\n"
     ]
    }
   ],
   "source": [
    "import pywt\n",
    "\n",
    "import tensorflow as tf\n",
    "from mit_bih_data_maker import mit_bih_data_maker\n",
    "\n",
    "def test_label_maker(label):\n",
    "    label_map = {\"N\":0, \"L\":1, \"R\":2, \"/\":3, \"V\":4, \"A\":5}\n",
    "    if label in label_map:\n",
    "        return label_map[label]\n",
    "    return \"Omit\"\n",
    "\n",
    "data_maker = mit_bih_data_maker()\n",
    "data_maker.config(\"../database/mit-bih/\", \"../database/mit-bih\", \"../database/mit-bih-r-label\")\n",
    "#rec_list = [\"100\", \"109\", \"118\", \"107\", \"208\", \"232\"]\n",
    "rec_list = []\n",
    "data_maker.load_data(rec_list)\n",
    "\n",
    "sample_num = -1\n",
    "label_percent = {0:0.197, 1:0.220, 2:0.191, 3:0.183, 4:0.087, 5:0.122}\n",
    "train_percent = 0.7\n",
    "ecg_data = data_maker.make_by_r_peak(before_r = 90, after_r = 146, sample_num = sample_num, label_maker = test_label_maker, \\\n",
    "                                     label_percent = label_percent, train_percent = train_percent)\n",
    "ecg_data.print_summary()"
   ]
  },
  {
   "cell_type": "code",
   "execution_count": 19,
   "metadata": {
    "collapsed": false
   },
   "outputs": [
    {
     "name": "stdout",
     "output_type": "stream",
     "text": [
      "(14473, 46)\n"
     ]
    }
   ],
   "source": [
    "import numpy as np\n",
    "from statsmodels.tsa.ar_model import AR\n",
    "\n",
    "db8 = pywt.Wavelet('db8')\n",
    "fea_array = []\n",
    "for i in xrange(ecg_data.train.x.shape[0]):\n",
    "    cA3, cD3, cD2, cD1 = pywt.wavedec(ecg_data.train.x[i].tolist(), db8, level = 3)\n",
    "    model = AR(ecg_data.train.x[i].tolist())\n",
    "    result = model.fit(maxlag = 4)\n",
    "    fea_array.append(cA3.tolist() + result.params[1:].tolist())\n",
    "    \n",
    "print np.array(fea_array).shape"
   ]
  },
  {
   "cell_type": "code",
   "execution_count": 20,
   "metadata": {
    "collapsed": false
   },
   "outputs": [
    {
     "name": "stdout",
     "output_type": "stream",
     "text": [
      "SVC(C=1.0, cache_size=200, class_weight=None, coef0=0.0,\n",
      "  decision_function_shape='ovo', degree=3, gamma='auto', kernel='rbf',\n",
      "  max_iter=-1, probability=False, random_state=None, shrinking=True,\n",
      "  tol=0.001, verbose=False)\n"
     ]
    }
   ],
   "source": [
    "from sklearn import svm\n",
    "\n",
    "clf = svm.SVC(decision_function_shape='ovo')\n",
    "clf.fit(np.array(fea_array), ecg_data.train.y)\n",
    "print clf"
   ]
  },
  {
   "cell_type": "code",
   "execution_count": 21,
   "metadata": {
    "collapsed": false
   },
   "outputs": [
    {
     "name": "stdout",
     "output_type": "stream",
     "text": [
      "0.95421570208\n"
     ]
    }
   ],
   "source": [
    "from sklearn.metrics import accuracy_score\n",
    "\n",
    "fea_array = []\n",
    "for i in xrange(ecg_data.test.x.shape[0]):\n",
    "    cA3, cD3, cD2, cD1 = pywt.wavedec(ecg_data.test.x[i].tolist(), db8, level = 3)\n",
    "    model = AR(ecg_data.test.x[i].tolist())\n",
    "    result = model.fit(maxlag = 4)\n",
    "    fea_array.append(cA3.tolist() + result.params[1:].tolist())\n",
    "    wt_array.append(cA3)\n",
    "    \n",
    "y_pred = clf.predict(np.array(fea_array))\n",
    "print accuracy_score(y_pred, ecg_data.test.y)"
   ]
  }
 ],
 "metadata": {
  "kernelspec": {
   "display_name": "Python 2",
   "language": "python",
   "name": "python2"
  },
  "language_info": {
   "codemirror_mode": {
    "name": "ipython",
    "version": 2
   },
   "file_extension": ".py",
   "mimetype": "text/x-python",
   "name": "python",
   "nbconvert_exporter": "python",
   "pygments_lexer": "ipython2",
   "version": "2.7.5"
  }
 },
 "nbformat": 4,
 "nbformat_minor": 0
}
